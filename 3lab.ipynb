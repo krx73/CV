{
 "cells": [
  {
   "cell_type": "code",
   "execution_count": null,
   "metadata": {},
   "outputs": [],
   "source": [
    "import numpy as np \n",
    "import torch\n",
    "\n",
    "def custom_conv_transpose(input_tensor, input_channels, output_channels, kernel_size, \n",
    "                          stride=1, padding=0, output_padding=0, dilation=1, \n",
    "                          bias=True, padding_mode='zeros'):\n",
    "    \n",
    "    bias_values = torch.rand(output_channels) if bias else torch.zeros(output_channels)\n",
    "\n",
    "    if padding_mode != 'zeros':\n",
    "        raise ValueError('Only \"zeros\" padding mode supported')\n",
    "\n",
    "    weights = torch.rand(input_channels, output_channels, kernel_size, kernel_size) if isinstance(kernel_size, int) else torch.rand(input_channels, output_channels, *kernel_size)\n",
    "\n",
    "    result_tensors = []\n",
    "\n",
    "    for out_channel in range(output_channels):\n",
    "        feature_map = torch.zeros((input_tensor.shape[1] - 1) * stride + dilation * (kernel_size - 1) + 1,  (input_tensor.shape[2] - 1) * stride + dilation * (kernel_size - 1) + 1)\n",
    "        \n",
    "        for in_channel in range(input_channels):\n",
    "            for i in range(0, input_tensor.shape[1]):\n",
    "                for j in range(0, input_tensor.shape[2]):\n",
    "                \n",
    "                    input_value = input_tensor[in_channel][i][j] \n",
    "                    product = input_value * weights[in_channel][out_channel]\n",
    "                \n",
    "                    zeros_tensor = torch.zeros((weights.shape[2] - 1) * dilation + 1, (weights.shape[3] - 1) * dilation + 1)\n",
    "                \n",
    "                    for m in range(0, zeros_tensor.shape[0], dilation):\n",
    "                        for n in range(0, zeros_tensor.shape[1], dilation):\n",
    "                            zeros_tensor[m][n] = product[m // dilation][n // dilation]\n",
    "                \n",
    "                    summation = np.add(zeros_tensor, \n",
    "                                        feature_map[i * stride : i * stride + (weights.shape[2] - 1) * dilation + 1, j * stride : j * stride + (weights.shape[3] - 1) * dilation + 1])\n",
    "                    feature_map[i * stride : i * stride + (weights.shape[2] - 1) * dilation + 1,  j * stride : j * stride + (weights.shape[3] - 1) * dilation + 1] = summation\n",
    "                    \n",
    "        result_tensors.append(np.add(feature_map, np.full(feature_map.shape, bias_values[out_channel])))\n",
    "\n",
    "    for tensor in range(len(result_tensors)):\n",
    "        if output_padding > 0:\n",
    "            pad = torch.nn.ConstantPad2d((0, output_padding, 0, output_padding), 0)\n",
    "            result_tensors[tensor] = pad(result_tensors[tensor])\n",
    "            \n",
    "        result_tensors[tensor] = result_tensors[tensor][padding:result_tensors[tensor].shape[0] - padding, padding:result_tensors[tensor].shape[1] - padding]\n",
    "\n",
    "    return result_tensors, weights, torch.tensor(bias_values)"
   ]
  }
 ],
 "metadata": {
  "language_info": {
   "name": "python"
  },
  "orig_nbformat": 4
 },
 "nbformat": 4,
 "nbformat_minor": 2
}
